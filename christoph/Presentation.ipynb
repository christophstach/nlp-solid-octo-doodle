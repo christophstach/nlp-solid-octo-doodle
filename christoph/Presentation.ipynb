{
 "cells": [
  {
   "cell_type": "markdown",
   "metadata": {},
   "source": [
    "# Presentation - Dokumentenverleich - Christoph Stach\n",
    "\n",
    "Erforderliche Gensim, spaCy und selbst erstellte Hilfsmodule laden."
   ]
  },
  {
   "cell_type": "code",
   "execution_count": 1,
   "metadata": {},
   "outputs": [],
   "source": [
    "from gensim.models import Word2Vec, TfidfModel\n",
    "from gensim.corpora import Dictionary\n",
    "from gensim.matutils import softcossim\n",
    "from TextProcessing import lemmatize_word\n",
    "from database import GetArticles\n",
    "from random import randrange\n",
    "from helpers import flatten\n",
    "from tqdm import tqdm\n",
    "from validation_data import get_train, get_test\n",
    "from statistics import mean\n",
    "import re\n",
    "import spacy"
   ]
  },
  {
   "cell_type": "markdown",
   "metadata": {},
   "source": [
    "## Deutsches spaCy Objekt erstellen\n",
    "\n",
    "Es wird hauptsächlich für das Preprocessing benötigt."
   ]
  },
  {
   "cell_type": "code",
   "execution_count": 2,
   "metadata": {},
   "outputs": [],
   "source": [
    "nlp = spacy.load('de')"
   ]
  },
  {
   "cell_type": "markdown",
   "metadata": {},
   "source": [
    "## Preprocessing definieren\n",
    "\n",
    "1. Texte von unötigen Sonderzeichen und Textpassagen bereinigen\n",
    "2. Mit spaCy den Text in viele Sätze aufteilen\n",
    "3. Mit spaCy sich die Nominalphrasen eines Satzes parsen\n",
    "4. Stopwörter aus aus den Nominalphrasen entfernen (auf Basis der spaCy Stopwörterlite)\n",
    "5. Wörter aus den Nonimalphrasen lemmatisieren\n",
    "6. Wörter in Kleinschreibung umwandeln\n",
    "7. Alle gefundenen Nominalphrasen eines Dokuments in einem Array speichern"
   ]
  },
  {
   "cell_type": "code",
   "execution_count": 3,
   "metadata": {},
   "outputs": [],
   "source": [
    "def preprocess(text):\n",
    "        # Clean text and remove double spacy and special chars and copyrights.\n",
    "        text = re.sub(' +', ' ', text)\n",
    "        text = re.sub(r'[^\\w äöüÄÖÜß\\\"\\:\\,\\.?\\!\\-\\_ ]', '', text)\n",
    "        text = re.sub(' 0 0 ', '', text)\n",
    "        text = re.sub('Mehr zum Thema\\:(.*)', '', text)\n",
    "        text = re.sub('Berliner Morgenpost [0-9]{4} (.*) Alle Rechte vorbehalten\\.', '', text)  # removes copyright if 'Mehr zum Thema' is not in text\n",
    "        text = re.sub('&', 'und', text)\n",
    "        text = re.sub(' +', ' ', text)\n",
    "        text = re.sub(' \\.', '.', text)\n",
    "        text = re.sub('Berliner Morgenpost [0-9]{4} Alle Rechte vorbehalten\\.', '', text)\n",
    "        text = text.strip()\n",
    "\n",
    "        \n",
    "        doc = nlp(text)\n",
    "\n",
    "        sentences = []\n",
    "        for sentence in doc.sents:  # Split text into sentences\n",
    "            chunks = []\n",
    "\n",
    "            for chunk in sentence.noun_chunks:  # Get noun_chunks out of sentence\n",
    "                tokens = chunk.text.lower().split(' ')\n",
    "                tokens = list(filter(lambda token: not nlp.vocab[token].is_stop, tokens)) # Remove stopwords\n",
    "                tokens = list(filter(lambda token: token != '', tokens)) # Remove empty tokens\n",
    "                tokens = list(map(lambda token: lemmatize_word(token), tokens))  # Lemmatize\n",
    "\n",
    "                chunk = ' '.join(tokens) # join stopword cleaned noun-chunks together again\n",
    "                chunk = chunk.lower()  # lower all the text\n",
    "\n",
    "                if chunk != '':\n",
    "                    chunks.append(chunk)\n",
    "\n",
    "            if len(chunks) > 0:  # Only append non empty tokens\n",
    "                sentences.append(chunks)\n",
    "\n",
    "        return flatten(sentences)  # Merge words of the sentences together to a document array"
   ]
  },
  {
   "cell_type": "markdown",
   "metadata": {},
   "source": [
    "## Beispiele"
   ]
  },
  {
   "cell_type": "code",
   "execution_count": 4,
   "metadata": {},
   "outputs": [
    {
     "name": "stdout",
     "output_type": "stream",
     "text": [
      "['beamti', 'mordkommissio', 'sendung', 'sichergestellt mutz', 'tater', 'polizei', 'hinweisgeb']\n",
      "['pfingstsonntag', 'aktivi', 'leer stehend hau', 'berlin', 'aufregung', 'problem wohnungsleersta', 'anhorung']\n",
      "['kritik', 'kritik geraten kommunal stadt', 'land', 'leer stehend hau', 'neukoll', 'pfingstsonntag', 'knapp proz', 'dramatisch zahlen']\n"
     ]
    }
   ],
   "source": [
    "print(preprocess('Eine Beamtin der Mordkommission hatte in der Sendung eine sichergestellte Mütze gezeigt, die der Täter laut Polizei \"nachweislich\" verlor. Sie fragte, wer den Besitzer kennt. Es handle sich um ein älteres H&M-Frauenmodell, an dem ursprünglich Strasssteine angebracht gewesen seien. Gesucht werden auch Hinweisgeber zu einem blau-weißen Tuch, das dem Opfer gehörte.'))\n",
    "print(preprocess('Als am Pfingstsonntag Aktivisten leer stehende Häuser in Berlin besetzten, war die Aufregung groß. Während sich die rot-rot-grüne Koalition stritt, wie die Aktion politisch zu bewerten sei, herrschte auch Verwirrung darüber, wie groß das Problem Wohnungsleerstand in Berlin tatsächlich ist. Auf einer Anhörung im Stadtentwicklungsausschuss am Mittwoch wurde diese Wissenslücke geschlossen.'))\n",
    "print(preprocess('Auch die in die Kritik geratene kommunale „Stadt und Land“, deren seit Jahren leer stehendes Haus in Neukölln am Pfingstsonntag ebenfalls besetzt worden war, verteidigte sich. „Wir haben einen Leerstand von 2,6 Prozent, das entspricht 1154 Wohnungen“, sagte Geschäftsführer Ingo Malter. Knapp ein Prozent stünden sanierungsbedingt leer. „Keine dramatischen Zahlen“, so der „Stadt und Land“-Chef.'))"
   ]
  },
  {
   "cell_type": "markdown",
   "metadata": {},
   "source": [
    "## Zuvor erstellten Modelle laden"
   ]
  },
  {
   "cell_type": "code",
   "execution_count": 5,
   "metadata": {},
   "outputs": [],
   "source": [
    "word2vec = Word2Vec.load('./data/noun-chunks/w2v.bin')\n",
    "dictionary = Dictionary.load('./data/noun-chunks/dict.bin')\n",
    "tfidf = TfidfModel.load('./data/noun-chunks/tfidf.bin')"
   ]
  },
  {
   "cell_type": "markdown",
   "metadata": {},
   "source": [
    "## Similarity-Matrix erstellen\n",
    "\n",
    "Vergleicht alle Wordembeddings von allen Wörtern die im Dictionary vorhanden sind und erstellt ahand dessen eine Similarity-Matrix.\n",
    "Optional können Gewichte aus einem TfIdf-Model miteinbezogen werden."
   ]
  },
  {
   "cell_type": "code",
   "execution_count": 6,
   "metadata": {},
   "outputs": [],
   "source": [
    "similarity_matrix = word2vec.wv.similarity_matrix(dictionary, tfidf)"
   ]
  },
  {
   "cell_type": "markdown",
   "metadata": {},
   "source": [
    "## Vergleichsfunktion definieren\n",
    "\n",
    "Vergleicht zwei Texte über die ***soft cosine similarity*** anhand der zuvor erstellten similarty_matrix."
   ]
  },
  {
   "cell_type": "code",
   "execution_count": 7,
   "metadata": {},
   "outputs": [],
   "source": [
    "def similarity(text1, text2):\n",
    "    preprocessed_text1 = preprocess(text1)\n",
    "    preprocessed_text2 = preprocess(text2)\n",
    "\n",
    "    bow1 = dictionary.doc2bow(preprocessed_text1)\n",
    "    bow2 = dictionary.doc2bow(preprocessed_text2)\n",
    "    \n",
    "    return softcossim(bow1, bow2, similarity_matrix)"
   ]
  },
  {
   "cell_type": "markdown",
   "metadata": {},
   "source": [
    "## Beispiel"
   ]
  },
  {
   "cell_type": "code",
   "execution_count": 8,
   "metadata": {},
   "outputs": [
    {
     "name": "stdout",
     "output_type": "stream",
     "text": [
      "0.2636047637143506\n"
     ]
    }
   ],
   "source": [
    "print(similarity(\n",
    "    'Als am Pfingstsonntag Aktivisten leer stehende Häuser in Berlin besetzten, war die Aufregung groß. Während sich die rot-rot-grüne Koalition stritt, wie die Aktion politisch zu bewerten sei, herrschte auch Verwirrung darüber, wie groß das Problem Wohnungsleerstand in Berlin tatsächlich ist. Auf einer Anhörung im Stadtentwicklungsausschuss am Mittwoch wurde diese Wissenslücke geschlossen.', \n",
    "    'Auch die in die Kritik geratene kommunale „Stadt und Land“, deren seit Jahren leer stehendes Haus in Neukölln am Pfingstsonntag ebenfalls besetzt worden war, verteidigte sich. „Wir haben einen Leerstand von 2,6 Prozent, das entspricht 1154 Wohnungen“, sagte Geschäftsführer Ingo Malter. Knapp ein Prozent stünden sanierungsbedingt leer. „Keine dramatischen Zahlen“, so der „Stadt und Land“-Chef.'\n",
    "))"
   ]
  },
  {
   "cell_type": "markdown",
   "metadata": {},
   "source": [
    "## Dublettenfunktion definieren\n",
    "\n",
    "Vergleicht zwei Texte und gibt True oder False zurück falls die Texte Dubletten darstellen."
   ]
  },
  {
   "cell_type": "code",
   "execution_count": 9,
   "metadata": {},
   "outputs": [],
   "source": [
    "def is_duplicate(text1, text2, threshold):\n",
    "    return similarity(text1, text2) >= threshold"
   ]
  },
  {
   "cell_type": "markdown",
   "metadata": {},
   "source": [
    "## Beispiel"
   ]
  },
  {
   "cell_type": "code",
   "execution_count": 10,
   "metadata": {},
   "outputs": [
    {
     "name": "stdout",
     "output_type": "stream",
     "text": [
      "False\n"
     ]
    }
   ],
   "source": [
    "print(is_duplicate(\n",
    "    'Als am Pfingstsonntag Aktivisten leer stehende Häuser in Berlin besetzten, war die Aufregung groß. Während sich die rot-rot-grüne Koalition stritt, wie die Aktion politisch zu bewerten sei, herrschte auch Verwirrung darüber, wie groß das Problem Wohnungsleerstand in Berlin tatsächlich ist. Auf einer Anhörung im Stadtentwicklungsausschuss am Mittwoch wurde diese Wissenslücke geschlossen.', \n",
    "    'Auch die in die Kritik geratene kommunale „Stadt und Land“, deren seit Jahren leer stehendes Haus in Neukölln am Pfingstsonntag ebenfalls besetzt worden war, verteidigte sich. „Wir haben einen Leerstand von 2,6 Prozent, das entspricht 1154 Wohnungen“, sagte Geschäftsführer Ingo Malter. Knapp ein Prozent stünden sanierungsbedingt leer. „Keine dramatischen Zahlen“, so der „Stadt und Land“-Chef.',\n",
    "     0.8285802480782033\n",
    "))"
   ]
  },
  {
   "cell_type": "markdown",
   "metadata": {},
   "source": [
    "## Die Schwelle (threshold) berechnen\n",
    "\n",
    "Zuerst benötigen wir Lauras trainings und test Daten."
   ]
  },
  {
   "cell_type": "code",
   "execution_count": 11,
   "metadata": {},
   "outputs": [],
   "source": [
    "train = get_train()\n",
    "test  = get_test()"
   ]
  },
  {
   "cell_type": "markdown",
   "metadata": {},
   "source": [
    "Die Similarity für alle Trainingsdaten bestimmten"
   ]
  },
  {
   "cell_type": "code",
   "execution_count": 12,
   "metadata": {},
   "outputs": [
    {
     "name": "stderr",
     "output_type": "stream",
     "text": [
      "Calculating similarities: 100%|██████████| 810/810 [02:23<00:00,  5.65it/s]\n"
     ]
    }
   ],
   "source": [
    "duplicates = []\n",
    "none_duplicates = []\n",
    "\n",
    "train = get_train()\n",
    "\n",
    "for data in tqdm(train, desc='Calculating similarities'):\n",
    "    sim = similarity(data['text1'], data['text2'])\n",
    "    \n",
    "    if data['duplicate']:\n",
    "        duplicates.append(sim)\n",
    "    else:\n",
    "        none_duplicates.append(sim)"
   ]
  },
  {
   "cell_type": "code",
   "execution_count": 13,
   "metadata": {},
   "outputs": [
    {
     "name": "stdout",
     "output_type": "stream",
     "text": [
      "0.8657823728312567\n",
      "0.037202124753053435\n"
     ]
    }
   ],
   "source": [
    "mean_d = mean(duplicates)\n",
    "mean_nd = mean(none_duplicates)\n",
    "\n",
    "print(mean_d)\n",
    "print(mean_nd)"
   ]
  },
  {
   "cell_type": "markdown",
   "metadata": {},
   "source": [
    "## Schwelle definieren\n",
    "\n",
    "Ab dieser Schwelle von Similarity gelten diese Text als Dubletten."
   ]
  },
  {
   "cell_type": "code",
   "execution_count": 14,
   "metadata": {},
   "outputs": [
    {
     "name": "stdout",
     "output_type": "stream",
     "text": [
      "0.8285802480782033\n"
     ]
    }
   ],
   "source": [
    "threshold = mean_d - mean_nd\n",
    "\n",
    "print(threshold)"
   ]
  },
  {
   "cell_type": "markdown",
   "metadata": {},
   "source": [
    "## Accuracy auf dem Testdatensatz"
   ]
  },
  {
   "cell_type": "code",
   "execution_count": 15,
   "metadata": {},
   "outputs": [
    {
     "name": "stderr",
     "output_type": "stream",
     "text": [
      "Calculating duplicates: 100%|██████████| 69/69 [00:09<00:00,  7.09it/s]\n"
     ]
    }
   ],
   "source": [
    "total = len(test)\n",
    "correct = 0\n",
    "\n",
    "for data in tqdm(test, desc='Calculating duplicates'):\n",
    "    if data['duplicate'] == is_duplicate(data['text1'], data['text2'], threshold):\n",
    "        correct += 1"
   ]
  },
  {
   "cell_type": "code",
   "execution_count": 16,
   "metadata": {},
   "outputs": [
    {
     "name": "stdout",
     "output_type": "stream",
     "text": [
      "Correct:  56\n",
      "Total:  69\n",
      "Accuracy:  81.15942028985508 %\n"
     ]
    }
   ],
   "source": [
    "print('Correct: ', correct)\n",
    "print('Total: ', total)\n",
    "print('Accuracy: ', (correct / total * 100), '%')"
   ]
  },
  {
   "cell_type": "markdown",
   "metadata": {},
   "source": [
    "## Accuracy auf dem Traindatensatz"
   ]
  },
  {
   "cell_type": "code",
   "execution_count": 17,
   "metadata": {},
   "outputs": [
    {
     "name": "stderr",
     "output_type": "stream",
     "text": [
      "Calculating duplicates: 100%|██████████| 810/810 [02:22<00:00,  5.70it/s]\n"
     ]
    }
   ],
   "source": [
    "total = len(train)\n",
    "correct = 0\n",
    "\n",
    "for data in tqdm(train, desc='Calculating duplicates'):\n",
    "    if data['duplicate'] == is_duplicate(data['text1'], data['text2'], threshold):\n",
    "        correct += 1"
   ]
  },
  {
   "cell_type": "code",
   "execution_count": 18,
   "metadata": {},
   "outputs": [
    {
     "name": "stdout",
     "output_type": "stream",
     "text": [
      "Correct:  705\n",
      "Total:  810\n",
      "Accuracy:  87.03703703703704 %\n"
     ]
    }
   ],
   "source": [
    "print('Correct: ', correct)\n",
    "print('Total: ', total)\n",
    "print('Accuracy: ', (correct / total * 100), '%')"
   ]
  },
  {
   "cell_type": "markdown",
   "metadata": {},
   "source": [
    "## Vergleich zufälliger Texte aus der Datenbank"
   ]
  },
  {
   "cell_type": "code",
   "execution_count": 19,
   "metadata": {},
   "outputs": [],
   "source": [
    "articles = GetArticles(local=False, test_run=False)"
   ]
  },
  {
   "cell_type": "code",
   "execution_count": 20,
   "metadata": {},
   "outputs": [],
   "source": [
    "count = len(articles)\n",
    "rnd1 = randrange(0, count - 1)\n",
    "rnd2 = randrange(0, count - 1)\n",
    "\n",
    "text1 = articles[rnd1]['text']\n",
    "text2 = articles[rnd2]['text']"
   ]
  },
  {
   "cell_type": "code",
   "execution_count": 21,
   "metadata": {},
   "outputs": [
    {
     "name": "stdout",
     "output_type": "stream",
     "text": [
      "  – mit allen Mitteln. Holte pensionierte Finanzbeamte als Laien-Asylentscheider ins Amt, auch Soldaten und Arbeitslose. Das Bamf wuchs von 2000 auf 10.000 Mitarbeiter.  Nur: Viele hatten von Asylrecht oder der Lage etwa in Afghanistan keine Ahnung, wurden \"on the job\" geschult. Weise gelang es, das träge Bamf zu modernisieren. Heute sagen seine Kritiker: Das passierte auf Kosten der Qualität – und der Sicherheit.   • Jutta Cordt  Anfang 2017 machte Weise Jutta Cordt zur neuen Bamf-Präsidentin. Er kannte sie schon von der Arbeitsagentur. Cordt setzte einerseits auf den umstrittenen Beschleunigungskurs ihres Vorgängers, andererseits konzentrierte sie sich 2017 mehr auf Sicherheit im Asylverfahren und Qualität der Entscheide.   Ihr Vorteil: Mittlerweile kommen deutlich weniger Geflüchtete ins Land. Nur greifen Cordts Maßnahmen zu spät. Das zeigte sich, als sich der Rechtsradikale Franco A. als Syrer ausgab – und Asyl bekam. Das zeigt sich auch im mutmaßlichen Asylbetrug in der Bremer Außenstelle. Cordt steht zudem auf Kriegsfuß mit dem Personalrat des Bamf.  Der Vorwurf: Wichtige Schulungen zum Asylrecht würden weiterhin hinter dem Druck der hohen Vorgaben an Entscheider zurückstehen. Noch hält Seehofer an der Amtsleiterin fest, stellte sich nach dem Innenausschuss vor sie, lobte ihre Mithilfe an der Aufarbeitung der Missstände.  Cordt geht mit einer neuen \"Qualitätssicherung\" in die Offensive. Wie lange ihre Atempause anhält, hängt vor allem davon ab, welche Missstände ihre internen Prüfer in den Außenstellen noch zu Tage bringen.    © Berliner Morgenpost 2018 – Alle Rechte vorbehalten.   \n",
      "\n",
      "\n",
      "31562       0    0                Berlin. Motorradfahrer bei Unfall schwer verletzt: Bei einem Unfall in Pankow ist ein Motorradfahrer am Sonnabendabend schwerverletzt worden, teilte die Polizei am Sonntag mit. Laut Zeugenaussagen befuhr ein 23-Jähriger mit seinem Renault gegen 19:30 Uhr die Neumannstraße in Richtung Granitzstraße und übersah beim Abbiegen in die Thulestraße den entgegenkommenden Motorradfahrer. Der 28-jährige Motorradfahrer erlitt mehrere Knochenbrüche. Er kam zur stationären Behandlung ins Krankenhaus. Auch die 22-Jährige Beifahrerin des Renault-Fahrers wurde leicht verletzt. Zwei Verletzte bei Unfall: In Moabit ist es am Sonntagabend zu einem Zusammenstoß mehrerer Autos gekommen. Gegen 22:30 Uhr befuhr ein 39-Jähriger mit seinem Opel die Stromstraße Richtung Putlitzbrücke. An der Einmündung zur Perlebergerstraße soll er eine rote Ampel missachtet haben, woraufhin er mit dem Mercedes eines 24-Jährigen zusammenstieß, der aus der Perleberger Straße auf die Stromstraße einbiegen wollte. Durch die Wucht des Aufpralls stieß der Mercedes gegen einen dahinter fahrenden Audi. Eine 49-jährige Beifahrerin des Mercedes wurde schwer verletzt und musste zur stationären Behandlung ins Krankenhaus gebracht werden. Der Mercedesfahrer verletzte sich leicht. Mieter hält Einbrecher fest: Ein Mieter einer Wohnung in Schöneberg schnappte sich gestern einen mutmaßlichen Einbrecher und hielt ihn bis zum Eintreffen der Polizei fest. Gegen 16:30 Uhr hörte der 49-Jährige seltsame Geräusche aus einem Zimmer seiner Wohnung und schaute daraufhin nach. Dort sah er einen Mann, der in diesem Moment durch die aufgebrochene Balkontür steigen wollte. Der Unbekannte ergriff die Flucht, wurde von dem Mieter verfolgt, kurze Zeit später gestoppt und festgehalten. Gerufene Polizisten nahmen den 29-jährigen Tatverdächtigen fest.                 Bus und Bahn S-Bahn: S1: Ab ca. 22:00 Uhr durchgehend bis Montag, ca. 01.30 Uhr gibt es keinen S-Bahnverkehr zwischen Frohnau und Birkenwerder. Als Ersatz fahren Busse. S2: Ab ca. 22:00 Uhr durchgehend bis Montag, ca. 01.30 Uhr, gibt es keinen S-Bahnverkehr zwischen Blankenfelde und Lichtenrade. Als Ersatz fahren Busse. S5, S7 und S75: Ab ca. 22:00 Uhr durchgehend bis Montag, ca. 01.30 Uhr, ist der S-Bahnverkehr zwischen Wuhletal, Wartenberg, Springpfuhl und Lichtenberg unterbrochen. Als Ersatz fahren jeweils Busse. S8: Ab ca. 22:00 Uhr durchgehend bis Montag, ca. 01.30 Uhr, gibt es keinen S-Bahnverkehr zwischen Mühlenbeck-Mönchmühle und Birkenwerder, als Ersatz fahren Busse. Staustellen Neukölln: Für einen Kraneinsatz ist die Sonnenallee von 07:00-18:00 Uhr in Richtung Baumschulenweg zwischen Heinrich-Schlusnus-Straße und Joseph-Schmidt-Straße auf einen Fahrstreifen verengt. Mitte, Moabit und Prenzlauer Berg: Um 20:00 Uhr beginnt eine Skater-Veranstaltung am Alexanderplatz. Die Strecke führt auf den Hauptverkehrsstraßen unter anderem über Torstraße, Invalidenstraße, Bernauer Straße, Schönhauser Allee, Danziger Straße und Greifswalder Straße zurück zum Alexanderplatz. Mitte (1): In der Zeit von 11:30-16:00 Uhr kommt es aufgrund einer Demonstration zu kurzzeitigen Sperrungen im Bereich Platz der Republik (Paul-Löbe-Allee), Otto-von-Bismarck-Allee, Konrad-Adenauer-Str., Reinhardtstr., Luisenstr., Wilhelmstr., Dorotheenstr., Scheidemannstr., Heinrich-von-Gagern-Str. und Paul-Löbe-Allee. Ab 05:00 Uhr bis ca. 19:00 Uhr Sperrung der Kreuzungen in Richtung Bühne auf der Otto-von-Bismarck-Allee: • Alt-Moabit/Elisabeth-Abegg-Str./Moltkebrücke/Rahel-Hirsch-Str. • Heinrich-von-Gagern-Str./Yitzhak-Rabin-Str./Scheidemannstr. • Kronprinzenbrücke/Kapelle-Ufer/Schiffbauerdamm/Reinhardtstr. Mitte (2): In der Zeit von 12:15-13:45 Uhr kommt es aufgrund einer Demonstration zu Verkehrsbehinderungen im Bereich Alexanderplatz, Karl-Liebknecht-Straße, Unter den Linden, Friedrichstraße, Leipziger Straße und Potsdamer Platz. Mitte (3): Um ca. 12:30 Uhr beginnt am Brandenburger Tor ein Aufzug via Unter den Linden, Glinkastraße, Mauerstraße, Schützenstraße, Friedrichstraße, Rudi-Dutschke-Straße und Axel-Springer-Straße. Mitte (4): Für einen Fahrradkorso kommt es zwischen 15:30-17:00 Uhr zu Verkehrsbehinderungen im Bereich Cora-Berliner-Straße, Hannah-Arendt-Straße, Ebertstraße, Lennéstraße, Kemperplatz, Tiergartenstraße, Hofjägerallee, Klingelhöferstraße, Lützowufer, Schöneberger Ufer, Tempelhofer Ufer, Waterloo Ufer, Zossener Straße, Blücherstraße, Urbanstraße, Kottbusser Damm, Kottbusser Straße, Fraenkelufer, Erkelenzdamm, Skalitzer Straße, Skalitzer Straße, Adalbertstraße, Oranienstraße, Moritzplatz, Oranienstraße, Rudi-Dutschke-Straße, Friedrichstraße Unter den Linden und Bebelplatz. Im Anschluss ist bis 20:00 Uhr eine Kundgebung auf dem Bebelplatz geplant. Nikolassee und Grunewald: Für einen Triathlon ist die Havelchaussee in der Zeit von 08:00-10:00 Uhr in beiden Richtungen zwischen Grunwaldturm und Kronprinzessinnenweg voll gesperrt. Westend: Ab ca. 18:00 Uhr wird aufgrund eines Konzerts in der Waldbühne (Beginn 20:15 Uhr) ein erhöhtes Verkehrsaufkommen im Bereich der Heerstraße erwartet. Friedrichshain: Ab ca. 11:30 Uhr ist aufgrund einer Veranstaltung in der Mercedes-Benz-Arena (Beginn 13:00 Uhr) ein erhöhtes Verkehrsaufkommen im Bereich der Mühlenstraße, Warschauer Straße, Oberbaumbrücke und Stralauer Allee möglich. Wetter Die Wolken überwiegen, und gebietsweise fallen Schauer. Vorübergehend steigt das Gewitterrisiko etwas an. Im Laufe des Tages kommt aber auch mal für kurze Zeit die Sonne durch. Der Wind weht schwach bis mäßig mit frischen Böen aus Nordwest bis West. Morgen bleibt es bei einem Mix aus Sonne und Wolken meist trocken. Am Dienstag wechselt sich die Sonne mit meist harmlosen Wolken ab. Das Wetter für Berlin immer aktuell    ( BM )    © Berliner Morgenpost 2018 – Alle Rechte vorbehalten. \n"
     ]
    }
   ],
   "source": [
    "print(rnd1, text1)\n",
    "print()\n",
    "print()\n",
    "print(rnd2, text2)"
   ]
  },
  {
   "cell_type": "code",
   "execution_count": 22,
   "metadata": {
    "collapsed": true
   },
   "outputs": [
    {
     "name": "stdout",
     "output_type": "stream",
     "text": [
      "0.011434836775954279\n"
     ]
    }
   ],
   "source": [
    "print(similarity(text1, text2))"
   ]
  }
 ],
 "metadata": {
  "kernelspec": {
   "display_name": "Python 3",
   "language": "python",
   "name": "python3"
  },
  "language_info": {
   "codemirror_mode": {
    "name": "ipython",
    "version": 3
   },
   "file_extension": ".py",
   "mimetype": "text/x-python",
   "name": "python",
   "nbconvert_exporter": "python",
   "pygments_lexer": "ipython3",
   "version": "3.6.5"
  }
 },
 "nbformat": 4,
 "nbformat_minor": 2
}
