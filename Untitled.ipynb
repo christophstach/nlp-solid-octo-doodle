{
 "cells": [
  {
   "cell_type": "markdown",
   "metadata": {
    "slideshow": {
     "slide_type": "slide"
    }
   },
   "source": [
    "<h1><center>Pagerank ❤️ SpaCy / Gensim</center></h1>"
   ]
  },
  {
   "cell_type": "markdown",
   "metadata": {
    "slideshow": {
     "slide_type": "slide"
    }
   },
   "source": [
    "### Hauptprozedur: \n",
    "\n",
    "1. Identifiziere die meist relevanten Wörter und füge sie dem Graphen hinzu\n",
    "\n",
    "2. Finde Beziehungen zwischen den einzelnen Graphknoten (Wörter) und verbinde diese mit Kanten, welche direktional oder unidirektional bzw gewichtet oder ungewichtet sein könnnen.\n",
    "\n",
    "3. Iteriere den Graphen anhand des \"graph-based ranking algorithm\" bis er konvergiert.\n",
    "\n",
    "4. Sortiere die Knoten nach ihrem finalen Punkten und nutze die Kantenwerte um Ranking oder Auswahlen treffen zu könnnen."
   ]
  },
  {
   "cell_type": "markdown",
   "metadata": {
    "slideshow": {
     "slide_type": "slide"
    }
   },
   "source": [
    "### 1. Relvante Wröter suchen und den Graphen bilden\n",
    "```python\n",
    "# den text in sein Sätze unterteilen\n",
    "sentences = extract_sentences(text)\n",
    "\n",
    "# die gewichteten Matrizen für die berechnung bilden\n",
    "# zum Ähnlichkeitsvergleich benutzen wir spacy\n",
    "weights = build_weights_matrix(\n",
    "    tokens=sentences, \n",
    "    comparator=spacy_similarity, \n",
    "    normalize=True\n",
    ")\n",
    "```"
   ]
  },
  {
   "cell_type": "markdown",
   "metadata": {
    "slideshow": {
     "slide_type": "slide"
    }
   },
   "source": [
    "###  Aufbau der initialen Gewichtsmatrix:\n",
    "\n",
    "```python\n",
    "for i, token1 in enumerate(tokens):\n",
    "    weights.append([])\n",
    "    for o, token2 in enumerate(tokens):\n",
    "        if i == o:\n",
    "            # bei gleichen tokens immer 0 similiarity\n",
    "            weights[i].append(0)\n",
    "        else:\n",
    "            # gewichte zwischen den einzelnen Tokens berechnen\n",
    "            weights[i].append(comparator(token1, token2))\n",
    "```"
   ]
  },
  {
   "cell_type": "markdown",
   "metadata": {
    "slideshow": {
     "slide_type": "slide"
    }
   },
   "source": [
    "### Normalisierung mit einem Softmax\n",
    "\n",
    "```python\n",
    "if normalize:\n",
    "    weights = [softmax(weightRow) \n",
    "                   for weightRow in weights.T\n",
    "              ]\n",
    "    weights = np.array(weights).T\n",
    "\n",
    "```"
   ]
  },
  {
   "cell_type": "markdown",
   "metadata": {
    "slideshow": {
     "slide_type": "slide"
    }
   },
   "source": [
    "#### Normalisierung der Gewichte anhand von Softmax\n",
    "\n",
    "$${\\sigma (\\mathbf {z} )_{j}={\\frac {e^{z_{j}}}{\\sum _{k=1}^{K}e^{z_{k}}}}}\\text{  for j = 1, ...,K.}$$ \n",
    "\n",
    "$$\\text{Output: immer zwischen 0 - 1 und summiert ergibt es auch immer 1.}$$"
   ]
  },
  {
   "cell_type": "markdown",
   "metadata": {
    "slideshow": {
     "slide_type": "slide"
    }
   },
   "source": [
    "### 3. Iterationen über den Graphen\n",
    "\n",
    "```python\n",
    "while self.difference > self.epsilon:\n",
    "    self.iterate()\n",
    "    self.difference = np.max(\n",
    "        np.abs(np.subtract(\n",
    "            self.rankings[-1], \n",
    "            self.rankingLearn[-1]\n",
    "        ))\n",
    "    )\n",
    "    self.rankingLearn = self.rankings\n",
    "```"
   ]
  },
  {
   "cell_type": "markdown",
   "metadata": {
    "slideshow": {
     "slide_type": "slide"
    }
   },
   "source": [
    "### Iteration insights\n",
    "\n",
    "```python\n",
    "def iterate(self) -> None:\n",
    "    # Add another row to the array\n",
    "    self.rankings = np.vstack([\n",
    "        self.rankings,\n",
    "        np.dot(self.weights, self.rankings[-1])\n",
    "    ])\n",
    "```"
   ]
  },
  {
   "cell_type": "code",
   "execution_count": 1,
   "metadata": {
    "slideshow": {
     "slide_type": "skip"
    }
   },
   "outputs": [],
   "source": [
    "from pprint import pprint\n",
    "import numpy as np\n",
    "from nlp_utils import build_weights_matrix,\\\n",
    "extract_sentences,\\\n",
    "extract_unique_words,\\\n",
    "extract_noun_chunks,\\\n",
    "spacy_similarity"
   ]
  },
  {
   "cell_type": "code",
   "execution_count": 2,
   "metadata": {
    "slideshow": {
     "slide_type": "skip"
    }
   },
   "outputs": [],
   "source": [
    "import networkx as nx\n",
    "from nxpd import draw\n",
    "G = nx.DiGraph()\n",
    "G.graph['dpi'] = 80\n",
    "G.add_weighted_edges_from([\n",
    "    (\"Hallo\", \"Test\", 1000),(\"Test\",\"könnte\", 0.5),(\"könnte\",\"Hallo\", 1.0),\n",
    "    (\"Test\",\"vielleicht\",1.0),(\"niemals\",\"Hallo\", 0.333),(\"Hallo\",\"vielleicht\", 0.666)])"
   ]
  },
  {
   "cell_type": "code",
   "execution_count": 3,
   "metadata": {
    "slideshow": {
     "slide_type": "slide"
    }
   },
   "outputs": [
    {
     "data": {
      "image/png": "[encoded data removed]",
      "text/plain": [
       "<IPython.core.display.Image object>"
      ]
     },
     "execution_count": 3,
     "metadata": {},
     "output_type": "execute_result"
    }
   ],
   "source": [
    "draw(G, show='ipynb')"
   ]
  },
  {
   "cell_type": "code",
   "execution_count": 19,
   "metadata": {
    "slideshow": {
     "slide_type": "slide"
    }
   },
   "outputs": [],
   "source": [
    "text = '''\n",
    "Nach anhaltender Kritik an seinem Gipfel mit dem russischen Präsidenten Wladimir Putin in Helsinki hat US-Präsident Donald Trump den Kremlchef überraschend im Herbst nach Washington eingeladen.\n",
    "Die Sprecherin des Weißen Hauses, Sarah Sanders, teilte am Donnerstag (Ortszeit) auf Twitter mit, Trump habe seinen Nationalen Sicherheitsberater John Bolton mit der Einladung betraut. Die US-Opposition forderte Trump dazu auf, zunächst aufzuklären, was er im Vieraugengespräch mit Putin in Helsinki besprochen hat.\n",
    "Vorher dürfe Trump Putin nicht erneut hinter verschlossenen Türen treffen, verlangte der Oppositionsführer im US-Senat, der Demokrat Chuck Schumer - und zwar weder \"in den Vereinigten Staaten, in Russland oder sonstwo\". Die Oppositionsführerin im Repräsentantenhaus, Nancy Pelosi, spielte erneut darauf an, dass Putin belastendes Material gegen Trump in der Hand haben könne. \"Womit erpresst Putin Präsident Trump, persönlich, politisch oder finanziell?\", fragte sie.\n",
    "US-Geheimdienstkoordinator Dan Coats zeigte sich von der Ankündigung des Weißen Hauses überrascht. Beim Aspen-Sicherheitsforum in Colorado sagte er: \"Ich wusste davon nichts.\" Coats erneuerte seine Vorwürfe gegen die Russen, denen er vorwirft, sich in inneramerikanische Angelegenheiten einzumischen. \"Sie sind es, die versuchen, unsere Grundwerte zu untergraben, uns von unseren Alliierten zu entzweien, bei unserem Wahlprozess Chaos anzurichten.\"\n",
    "Trump hatte am Donnerstag auf Twitter Kritik an dem \"sehr erfolgreichen\" Gipfel mit Putin in Helsinki zurückgewiesen und geschrieben: \"Ich freue mich auf unser zweites Treffen, damit wir damit beginnen können, einige der vielen diskutierten Themen umzusetzen.\" Sollte Putin tatsächlich nach Washington kommen, wäre es sein erster Besuch im Weißen Haus seit September 2005, als George W. Bush noch US-Präsident war.\n",
    "Trump hatte in den Tagen nach dem Gipfel mit Putin am Montag in Helsinki mit widersprüchlichen Aussagen, Dementis und Klarstellungen viel Verwirrung gestiftet. Im Zuge seines Zickzack-Kurses hatte Trump dem US-Sender CBS am Mittwoch gesagt, er habe persönlich Putin davor gewarnt, dass die USA Einmischungen in künftige US-Wahlen nicht tolerieren würden.\n",
    "Zuvor hatte Trump sich sowohl bei der Pressekonferenz mit Putin in Helsinki als auch am Rande einer Kabinettssitzung am Mittwoch in Washington anders geäußert, dies später aber entweder als Versprecher oder falsche Berichterstattung bezeichnet. Trumps erste Äußerungen legten nahe, dass er Erkenntnisse der US-Geheimdienste anzweifelt. Diese halten es für erwiesen, dass Russland sich in die Präsidentenwahl von 2016 eingemischt hat. Putin bestritt dies am Montag in Helsinki. Trump nannte Putins Dementi \"extrem stark und kraftvoll\".\n",
    "Nach einem Bericht der \"New York Times\" sind Trump bereits zwei Wochen vor dessen Amtseinführung im Januar 2017 streng vertrauliche Geheimdienstinformationen gezeigt worden, wonach Putin persönlich Cyber-Angriffe auf die US-Wahlen angeordnet haben soll. Diese Informationen sollen unter anderem von einer Quelle aus dem engsten Umfeld Putins stammen. Trump habe sich widerwillig überzeugt gezeigt, berichtete das Blatt.\n",
    "Obwohl Trump in den vergangenen Tagen mit seinen widersprüchlichen Aussagen selbst die Kontroverse befeuert hatte, machte er am Donnerstag die Berichterstattung in einigen Medien dafür verantwortlich. Er warf ihnen dabei unter anderem Kriegstreiberei vor: \"Die Fake-News-Medien wollen unbedingt eine große Konfrontation sehen, sogar eine Konfrontation, die zum Krieg führen könnte\", schrieb er auf Twitter. Trump schien auch auf den Bericht in der \"New York Times\" angespielt zu haben.\n",
    "Die sogenannten Fake-News-Medien erfänden Geschichten, ohne dafür Quellen oder Beweise zu haben, twitterte Trump. \"Viele Beiträge, die über mich oder die guten Leute um mich herum geschrieben werden, sind reine Fiktion.\" Mit Fake-News-Medien meint Trump pauschal alle, die nicht auf einer Welle mit ihm liegen oder kritisch über ihn berichten. Dazu gehören auch Zeitungen wie die angesehene \"New York Times\", die Jahr für Jahr mit Journalistenpreisen für ihre Qualitätsberichterstattung geehrt wird.\n",
    "'''"
   ]
  },
  {
   "cell_type": "code",
   "execution_count": 20,
   "metadata": {
    "slideshow": {
     "slide_type": "skip"
    }
   },
   "outputs": [],
   "source": [
    "class WeightedPageRank:\n",
    "    def __init__(self, weights):\n",
    "        \"\"\"\n",
    "        Constructs the weighted pagerank.\n",
    "\n",
    "        :param weights: The weights matrix between the nodes\n",
    "        :param iterations: The number of iterations to use to loop over the dataset\n",
    "        \"\"\"\n",
    "        self.weights = np.array(weights)\n",
    "        self.epsilon = 1.0e-20\n",
    "        self.rankings = np.full(\n",
    "            (1, self.weights.shape[0]),\n",
    "            fill_value=1 / self.weights.shape[0]\n",
    "        )\n",
    "        self.rankingLearn = np.zeros_like(self.rankings)\n",
    "        self.difference = 1\n",
    "    \n",
    "        while self.difference > self.epsilon:\n",
    "            self.iterate()\n",
    "            self.difference = np.max(\n",
    "                np.abs(np.subtract(self.rankings[-1], self.rankingLearn[-1]))\n",
    "            )\n",
    "            self.rankingLearn = self.rankings\n",
    "\n",
    "    def iterate(self) -> None:\n",
    "        \"\"\"\n",
    "        Multiplies one time the weight matrix over the rankings of the previous\n",
    "        iteration to calculate new scores.\n",
    "        \"\"\"\n",
    "        # Add another row to the array\n",
    "        self.rankings = np.vstack([\n",
    "            self.rankings,\n",
    "            np.dot(self.weights, self.rankings[-1])\n",
    "        ])\n",
    "\n",
    "    def sort_by_ranking(self, array):\n",
    "        \"\"\"\n",
    "        Sorts an array based the on rankings of the last iteration.\n",
    "\n",
    "        :param array: The array to sort\n",
    "        :return: The sorted array\n",
    "        \"\"\"\n",
    "        assert len(array) == len(self.rankings[-1])\n",
    "\n",
    "        return [value for _, value in sorted(zip(self.rankings[-1], array), reverse=True)]\n",
    "\n",
    "    def get_top_entries(self, array, count: int = 4, keep_original_occurrence: bool = True):\n",
    "        \"\"\"\n",
    "        Returns the top entries of a given array based on the rankins\n",
    "\n",
    "        :param array: The array\n",
    "        :param count: The number of entries to return\n",
    "        :param keep_original_occurrence: Should the original order of the entries in the text be preserved\n",
    "        :return: The top entries based on the ranking\n",
    "        \"\"\"\n",
    "        sorted_array = self.sort_by_ranking(array)\n",
    "        sorted_array = sorted_array[0:count]\n",
    "\n",
    "        if keep_original_occurrence:\n",
    "            sorted_array = [value for _, value in sorted(\n",
    "                zip(array, sorted_array), reverse=True)]\n",
    "\n",
    "        return sorted_array"
   ]
  },
  {
   "cell_type": "code",
   "execution_count": 21,
   "metadata": {
    "slideshow": {
     "slide_type": "slide"
    }
   },
   "outputs": [
    {
     "name": "stdout",
     "output_type": "stream",
     "text": [
      "\n",
      "####################################\n",
      "# Summary                          #\n",
      "####################################\n",
      "\n",
      "Im Zuge seines Zickzack-Kurses hatte Trump dem US-Sender CBS am Mittwoch gesagt, er habe persönlich Putin davor gewarnt, dass die USA Einmischungen in künftige US-Wahlen nicht tolerieren würden.\n",
      " Die Oppositionsführerin im Repräsentantenhaus, Nancy Pelosi, spielte erneut darauf an, dass Putin belastendes Material gegen Trump in der Hand haben könne. \"\n"
     ]
    }
   ],
   "source": [
    "print('''\n",
    "####################################\n",
    "# Summary                          #\n",
    "####################################\n",
    "''')\n",
    "\n",
    "sentences = extract_sentences(text)\n",
    "weights = build_weights_matrix(\n",
    "    tokens=sentences, comparator=spacy_similarity, normalize=True)\n",
    "pr = WeightedPageRank(weights=weights)\n",
    "print(' '.join(pr.get_top_entries(sentences, count=2)))"
   ]
  },
  {
   "cell_type": "code",
   "execution_count": 7,
   "metadata": {},
   "outputs": [],
   "source": [
    "import gensim\n",
    "model = gensim.models.KeyedVectors.load_word2vec_format('german.model', binary=True)"
   ]
  },
  {
   "cell_type": "code",
   "execution_count": 22,
   "metadata": {},
   "outputs": [
    {
     "name": "stderr",
     "output_type": "stream",
     "text": [
      "/usr/local/lib/python3.6/site-packages/ipykernel_launcher.py:3: DeprecationWarning: Call to deprecated `wv` (Attribute will be removed in 4.0.0, use self instead).\n",
      "  This is separate from the ipykernel package so we can avoid doing imports until\n"
     ]
    }
   ],
   "source": [
    "from scipy import spatial\n",
    "\n",
    "index2word_set = set(model.wv.index2word)\n",
    "\n",
    "def avg_feature_vector(sentence, model, num_features, index2word_set):\n",
    "    words = sentence.split()\n",
    "    feature_vec = np.zeros((num_features, ), dtype='float32')\n",
    "    n_words = 0\n",
    "    for word in words:\n",
    "        if word in index2word_set:\n",
    "            n_words += 1\n",
    "            feature_vec = np.add(feature_vec, model[word])\n",
    "    if (n_words > 0):\n",
    "        feature_vec = np.divide(feature_vec, n_words)\n",
    "    return feature_vec\n",
    "\n",
    "\n",
    "def similarityForSentencesGensim(sentence_one, sentence_two):\n",
    "    s1_afv = avg_feature_vector(sentence_one, model=model, num_features=300, index2word_set=index2word_set)\n",
    "    s2_afv = avg_feature_vector(sentence_two, model=model, num_features=300, index2word_set=index2word_set)\n",
    "    return 1 - spatial.distance.cosine(s1_afv, s2_afv)\n"
   ]
  },
  {
   "cell_type": "code",
   "execution_count": 23,
   "metadata": {
    "slideshow": {
     "slide_type": "slide"
    }
   },
   "outputs": [
    {
     "name": "stdout",
     "output_type": "stream",
     "text": [
      "\n",
      "####################################\n",
      "# Summary                          #\n",
      "####################################\n",
      "\n",
      "Nach einem Bericht der \"New York Times\" sind Trump bereits zwei Wochen vor dessen Amtseinführung im Januar 2017 streng vertrauliche Geheimdienstinformationen gezeigt worden, wonach Putin persönlich Cyber-Angriffe auf die US-Wahlen angeordnet haben soll. Zuvor hatte Trump sich sowohl bei der Pressekonferenz mit Putin in Helsinki als auch am Rande einer Kabinettssitzung am Mittwoch in Washington anders geäußert, dies später aber entweder als Versprecher oder falsche Berichterstattung bezeichnet.\n"
     ]
    }
   ],
   "source": [
    "print('''\n",
    "####################################\n",
    "# Summary                          #\n",
    "####################################\n",
    "''')\n",
    "\n",
    "sentences = extract_sentences(text)\n",
    "weights = build_weights_matrix(\n",
    "    tokens=sentences, comparator=similarityForSentencesGensim, normalize=True)\n",
    "pr = WeightedPageRank(weights=weights)\n",
    "print(' '.join(pr.get_top_entries(sentences, count=2)))"
   ]
  }
 ],
 "metadata": {
  "celltoolbar": "Slideshow",
  "kernelspec": {
   "display_name": "Python 3",
   "language": "python",
   "name": "python3"
  },
  "language_info": {
   "codemirror_mode": {
    "name": "ipython",
    "version": 3
   },
   "file_extension": ".py",
   "mimetype": "text/x-python",
   "name": "python",
   "nbconvert_exporter": "python",
   "pygments_lexer": "ipython3",
   "version": "3.6.5"
  }
 },
 "nbformat": 4,
 "nbformat_minor": 2
}
